{
 "cells": [
  {
   "cell_type": "markdown",
   "id": "e8474a47",
   "metadata": {},
   "source": [
    "## Resume Analyser Application using NLP Python"
   ]
  },
  {
   "cell_type": "code",
   "execution_count": 1,
   "id": "f7c5988e",
   "metadata": {},
   "outputs": [],
   "source": [
    "# Import the libraries\n",
    "import numpy as np\n",
    "import pandas as pd\n",
    "import matplotlib.pyplot as plt\n",
    "import seaborn as sns"
   ]
  },
  {
   "cell_type": "markdown",
   "id": "3afcdbac",
   "metadata": {},
   "source": []
  },
  {
   "cell_type": "code",
   "execution_count": 2,
   "id": "bacbda46",
   "metadata": {},
   "outputs": [
    {
     "data": {
      "text/html": [
       "<div>\n",
       "<style scoped>\n",
       "    .dataframe tbody tr th:only-of-type {\n",
       "        vertical-align: middle;\n",
       "    }\n",
       "\n",
       "    .dataframe tbody tr th {\n",
       "        vertical-align: top;\n",
       "    }\n",
       "\n",
       "    .dataframe thead th {\n",
       "        text-align: right;\n",
       "    }\n",
       "</style>\n",
       "<table border=\"1\" class=\"dataframe\">\n",
       "  <thead>\n",
       "    <tr style=\"text-align: right;\">\n",
       "      <th></th>\n",
       "      <th>Category</th>\n",
       "      <th>Resume</th>\n",
       "    </tr>\n",
       "  </thead>\n",
       "  <tbody>\n",
       "    <tr>\n",
       "      <th>0</th>\n",
       "      <td>Data Science</td>\n",
       "      <td>Skills * Programming Languages: Python (pandas...</td>\n",
       "    </tr>\n",
       "    <tr>\n",
       "      <th>1</th>\n",
       "      <td>Data Science</td>\n",
       "      <td>Education Details \\r\\nMay 2013 to May 2017 B.E...</td>\n",
       "    </tr>\n",
       "    <tr>\n",
       "      <th>2</th>\n",
       "      <td>Data Science</td>\n",
       "      <td>Areas of Interest Deep Learning, Control Syste...</td>\n",
       "    </tr>\n",
       "    <tr>\n",
       "      <th>3</th>\n",
       "      <td>Data Science</td>\n",
       "      <td>Skills â¢ R â¢ Python â¢ SAP HANA â¢ Table...</td>\n",
       "    </tr>\n",
       "    <tr>\n",
       "      <th>4</th>\n",
       "      <td>Data Science</td>\n",
       "      <td>Education Details \\r\\n MCA   YMCAUST,  Faridab...</td>\n",
       "    </tr>\n",
       "    <tr>\n",
       "      <th>...</th>\n",
       "      <td>...</td>\n",
       "      <td>...</td>\n",
       "    </tr>\n",
       "    <tr>\n",
       "      <th>957</th>\n",
       "      <td>Testing</td>\n",
       "      <td>Computer Skills: â¢ Proficient in MS office (...</td>\n",
       "    </tr>\n",
       "    <tr>\n",
       "      <th>958</th>\n",
       "      <td>Testing</td>\n",
       "      <td>â Willingness to accept the challenges. â ...</td>\n",
       "    </tr>\n",
       "    <tr>\n",
       "      <th>959</th>\n",
       "      <td>Testing</td>\n",
       "      <td>PERSONAL SKILLS â¢ Quick learner, â¢ Eagerne...</td>\n",
       "    </tr>\n",
       "    <tr>\n",
       "      <th>960</th>\n",
       "      <td>Testing</td>\n",
       "      <td>COMPUTER SKILLS &amp; SOFTWARE KNOWLEDGE MS-Power ...</td>\n",
       "    </tr>\n",
       "    <tr>\n",
       "      <th>961</th>\n",
       "      <td>Testing</td>\n",
       "      <td>Skill Set OS Windows XP/7/8/8.1/10 Database MY...</td>\n",
       "    </tr>\n",
       "  </tbody>\n",
       "</table>\n",
       "<p>962 rows × 2 columns</p>\n",
       "</div>"
      ],
      "text/plain": [
       "         Category                                             Resume\n",
       "0    Data Science  Skills * Programming Languages: Python (pandas...\n",
       "1    Data Science  Education Details \\r\\nMay 2013 to May 2017 B.E...\n",
       "2    Data Science  Areas of Interest Deep Learning, Control Syste...\n",
       "3    Data Science  Skills â¢ R â¢ Python â¢ SAP HANA â¢ Table...\n",
       "4    Data Science  Education Details \\r\\n MCA   YMCAUST,  Faridab...\n",
       "..            ...                                                ...\n",
       "957       Testing  Computer Skills: â¢ Proficient in MS office (...\n",
       "958       Testing  â Willingness to accept the challenges. â ...\n",
       "959       Testing  PERSONAL SKILLS â¢ Quick learner, â¢ Eagerne...\n",
       "960       Testing  COMPUTER SKILLS & SOFTWARE KNOWLEDGE MS-Power ...\n",
       "961       Testing  Skill Set OS Windows XP/7/8/8.1/10 Database MY...\n",
       "\n",
       "[962 rows x 2 columns]"
      ]
     },
     "execution_count": 2,
     "metadata": {},
     "output_type": "execute_result"
    }
   ],
   "source": [
    "# Upload the dataset\n",
    "data=pd.read_csv('ResumeDataSet.csv')\n",
    "data"
   ]
  },
  {
   "cell_type": "markdown",
   "id": "709a533a",
   "metadata": {},
   "source": [
    "## Basic Check"
   ]
  },
  {
   "cell_type": "code",
   "execution_count": 3,
   "id": "81c471a4",
   "metadata": {},
   "outputs": [
    {
     "data": {
      "text/plain": [
       "(962, 2)"
      ]
     },
     "execution_count": 3,
     "metadata": {},
     "output_type": "execute_result"
    }
   ],
   "source": [
    "# checked the row and columns\n",
    "data.shape"
   ]
  },
  {
   "cell_type": "code",
   "execution_count": 4,
   "id": "b3a4d1b5",
   "metadata": {},
   "outputs": [
    {
     "data": {
      "text/html": [
       "<div>\n",
       "<style scoped>\n",
       "    .dataframe tbody tr th:only-of-type {\n",
       "        vertical-align: middle;\n",
       "    }\n",
       "\n",
       "    .dataframe tbody tr th {\n",
       "        vertical-align: top;\n",
       "    }\n",
       "\n",
       "    .dataframe thead th {\n",
       "        text-align: right;\n",
       "    }\n",
       "</style>\n",
       "<table border=\"1\" class=\"dataframe\">\n",
       "  <thead>\n",
       "    <tr style=\"text-align: right;\">\n",
       "      <th></th>\n",
       "      <th>Category</th>\n",
       "      <th>Resume</th>\n",
       "    </tr>\n",
       "  </thead>\n",
       "  <tbody>\n",
       "    <tr>\n",
       "      <th>0</th>\n",
       "      <td>Data Science</td>\n",
       "      <td>Skills * Programming Languages: Python (pandas...</td>\n",
       "    </tr>\n",
       "    <tr>\n",
       "      <th>1</th>\n",
       "      <td>Data Science</td>\n",
       "      <td>Education Details \\r\\nMay 2013 to May 2017 B.E...</td>\n",
       "    </tr>\n",
       "    <tr>\n",
       "      <th>2</th>\n",
       "      <td>Data Science</td>\n",
       "      <td>Areas of Interest Deep Learning, Control Syste...</td>\n",
       "    </tr>\n",
       "    <tr>\n",
       "      <th>3</th>\n",
       "      <td>Data Science</td>\n",
       "      <td>Skills â¢ R â¢ Python â¢ SAP HANA â¢ Table...</td>\n",
       "    </tr>\n",
       "    <tr>\n",
       "      <th>4</th>\n",
       "      <td>Data Science</td>\n",
       "      <td>Education Details \\r\\n MCA   YMCAUST,  Faridab...</td>\n",
       "    </tr>\n",
       "  </tbody>\n",
       "</table>\n",
       "</div>"
      ],
      "text/plain": [
       "       Category                                             Resume\n",
       "0  Data Science  Skills * Programming Languages: Python (pandas...\n",
       "1  Data Science  Education Details \\r\\nMay 2013 to May 2017 B.E...\n",
       "2  Data Science  Areas of Interest Deep Learning, Control Syste...\n",
       "3  Data Science  Skills â¢ R â¢ Python â¢ SAP HANA â¢ Table...\n",
       "4  Data Science  Education Details \\r\\n MCA   YMCAUST,  Faridab..."
      ]
     },
     "execution_count": 4,
     "metadata": {},
     "output_type": "execute_result"
    }
   ],
   "source": [
    "# checked first five records\n",
    "data.head()"
   ]
  },
  {
   "cell_type": "code",
   "execution_count": 5,
   "id": "00acfce4",
   "metadata": {},
   "outputs": [
    {
     "data": {
      "text/html": [
       "<div>\n",
       "<style scoped>\n",
       "    .dataframe tbody tr th:only-of-type {\n",
       "        vertical-align: middle;\n",
       "    }\n",
       "\n",
       "    .dataframe tbody tr th {\n",
       "        vertical-align: top;\n",
       "    }\n",
       "\n",
       "    .dataframe thead th {\n",
       "        text-align: right;\n",
       "    }\n",
       "</style>\n",
       "<table border=\"1\" class=\"dataframe\">\n",
       "  <thead>\n",
       "    <tr style=\"text-align: right;\">\n",
       "      <th></th>\n",
       "      <th>Category</th>\n",
       "      <th>Resume</th>\n",
       "    </tr>\n",
       "  </thead>\n",
       "  <tbody>\n",
       "    <tr>\n",
       "      <th>957</th>\n",
       "      <td>Testing</td>\n",
       "      <td>Computer Skills: â¢ Proficient in MS office (...</td>\n",
       "    </tr>\n",
       "    <tr>\n",
       "      <th>958</th>\n",
       "      <td>Testing</td>\n",
       "      <td>â Willingness to accept the challenges. â ...</td>\n",
       "    </tr>\n",
       "    <tr>\n",
       "      <th>959</th>\n",
       "      <td>Testing</td>\n",
       "      <td>PERSONAL SKILLS â¢ Quick learner, â¢ Eagerne...</td>\n",
       "    </tr>\n",
       "    <tr>\n",
       "      <th>960</th>\n",
       "      <td>Testing</td>\n",
       "      <td>COMPUTER SKILLS &amp; SOFTWARE KNOWLEDGE MS-Power ...</td>\n",
       "    </tr>\n",
       "    <tr>\n",
       "      <th>961</th>\n",
       "      <td>Testing</td>\n",
       "      <td>Skill Set OS Windows XP/7/8/8.1/10 Database MY...</td>\n",
       "    </tr>\n",
       "  </tbody>\n",
       "</table>\n",
       "</div>"
      ],
      "text/plain": [
       "    Category                                             Resume\n",
       "957  Testing  Computer Skills: â¢ Proficient in MS office (...\n",
       "958  Testing  â Willingness to accept the challenges. â ...\n",
       "959  Testing  PERSONAL SKILLS â¢ Quick learner, â¢ Eagerne...\n",
       "960  Testing  COMPUTER SKILLS & SOFTWARE KNOWLEDGE MS-Power ...\n",
       "961  Testing  Skill Set OS Windows XP/7/8/8.1/10 Database MY..."
      ]
     },
     "execution_count": 5,
     "metadata": {},
     "output_type": "execute_result"
    }
   ],
   "source": [
    "# Checked last five records\n",
    "data.tail()"
   ]
  },
  {
   "cell_type": "code",
   "execution_count": 6,
   "id": "017c84df",
   "metadata": {},
   "outputs": [
    {
     "data": {
      "text/plain": [
       "Category    0\n",
       "Resume      0\n",
       "dtype: int64"
      ]
     },
     "execution_count": 6,
     "metadata": {},
     "output_type": "execute_result"
    }
   ],
   "source": [
    "# Checked the null values\n",
    "data.isnull().sum()"
   ]
  },
  {
   "cell_type": "code",
   "execution_count": 7,
   "id": "1d5b3d85",
   "metadata": {
    "scrolled": true
   },
   "outputs": [
    {
     "data": {
      "text/plain": [
       "Category\n",
       "Java Developer               84\n",
       "Testing                      70\n",
       "DevOps Engineer              55\n",
       "Python Developer             48\n",
       "Web Designing                45\n",
       "HR                           44\n",
       "Hadoop                       42\n",
       "Blockchain                   40\n",
       "ETL Developer                40\n",
       "Operations Manager           40\n",
       "Data Science                 40\n",
       "Sales                        40\n",
       "Mechanical Engineer          40\n",
       "Arts                         36\n",
       "Database                     33\n",
       "Electrical Engineering       30\n",
       "Health and fitness           30\n",
       "PMO                          30\n",
       "Business Analyst             28\n",
       "DotNet Developer             28\n",
       "Automation Testing           26\n",
       "Network Security Engineer    25\n",
       "SAP Developer                24\n",
       "Civil Engineer               24\n",
       "Advocate                     20\n",
       "Name: count, dtype: int64"
      ]
     },
     "execution_count": 7,
     "metadata": {},
     "output_type": "execute_result"
    }
   ],
   "source": [
    "#Ckeched the labes in target variable\n",
    "data['Category'].value_counts()"
   ]
  },
  {
   "cell_type": "code",
   "execution_count": 8,
   "id": "72f08fe5",
   "metadata": {},
   "outputs": [
    {
     "name": "stdout",
     "output_type": "stream",
     "text": [
      "<class 'pandas.core.frame.DataFrame'>\n",
      "RangeIndex: 962 entries, 0 to 961\n",
      "Data columns (total 2 columns):\n",
      " #   Column    Non-Null Count  Dtype \n",
      "---  ------    --------------  ----- \n",
      " 0   Category  962 non-null    object\n",
      " 1   Resume    962 non-null    object\n",
      "dtypes: object(2)\n",
      "memory usage: 15.2+ KB\n"
     ]
    }
   ],
   "source": [
    "# Checked overview of dataset including its size, data types, and memory usage\n",
    "data.info()"
   ]
  },
  {
   "cell_type": "code",
   "execution_count": 9,
   "id": "7e5bed34",
   "metadata": {},
   "outputs": [
    {
     "data": {
      "image/png": "[encoded data removed]",
      "text/plain": [
       "<Figure size 1500x500 with 1 Axes>"
      ]
     },
     "metadata": {},
     "output_type": "display_data"
    }
   ],
   "source": [
    "# data categary analysis\n",
    "plt.figure(figsize=(15,5))\n",
    "sns.countplot(data.Category)\n",
    "plt.xticks(rotation=90)\n",
    "plt.show()"
   ]
  },
  {
   "cell_type": "code",
   "execution_count": 10,
   "id": "134995f8",
   "metadata": {},
   "outputs": [
    {
     "data": {
      "text/plain": [
       "([<matplotlib.patches.Wedge at 0x2cdfd4d4730>,\n",
       "  <matplotlib.patches.Wedge at 0x2cdfd4d4670>,\n",
       "  <matplotlib.patches.Wedge at 0x2cdfd4d5390>,\n",
       "  <matplotlib.patches.Wedge at 0x2cdfd4d4640>,\n",
       "  <matplotlib.patches.Wedge at 0x2cdfd4d6500>,\n",
       "  <matplotlib.patches.Wedge at 0x2cdfd4d6dd0>,\n",
       "  <matplotlib.patches.Wedge at 0x2cdfd4d76a0>,\n",
       "  <matplotlib.patches.Wedge at 0x2cdfd4d7f70>,\n",
       "  <matplotlib.patches.Wedge at 0x2cdfd52c880>,\n",
       "  <matplotlib.patches.Wedge at 0x2cdfd52d150>,\n",
       "  <matplotlib.patches.Wedge at 0x2cdfd52da20>,\n",
       "  <matplotlib.patches.Wedge at 0x2cdfd52e2f0>,\n",
       "  <matplotlib.patches.Wedge at 0x2cdfd52ebc0>,\n",
       "  <matplotlib.patches.Wedge at 0x2cdfd52f490>,\n",
       "  <matplotlib.patches.Wedge at 0x2cdfd52fd60>,\n",
       "  <matplotlib.patches.Wedge at 0x2cdfd5646a0>,\n",
       "  <matplotlib.patches.Wedge at 0x2cdfd564f70>,\n",
       "  <matplotlib.patches.Wedge at 0x2cdfd565840>,\n",
       "  <matplotlib.patches.Wedge at 0x2cdfd566110>,\n",
       "  <matplotlib.patches.Wedge at 0x2cdfd5669e0>,\n",
       "  <matplotlib.patches.Wedge at 0x2cdfd5672b0>,\n",
       "  <matplotlib.patches.Wedge at 0x2cdfd567b80>,\n",
       "  <matplotlib.patches.Wedge at 0x2cdfd5a0490>,\n",
       "  <matplotlib.patches.Wedge at 0x2cdfd5a0d60>,\n",
       "  <matplotlib.patches.Wedge at 0x2cdfd5a1630>],\n",
       " [Text(1.058871228953308, 0.29797939609125923, 'Data Science'),\n",
       "  Text(0.7841417468169058, 0.7714413269322118, 'HR'),\n",
       "  Text(0.4134731563409379, 1.0193330903024107, 'Advocate'),\n",
       "  Text(0.053862331076050214, 1.098680503736666, 'Arts'),\n",
       "  Text(-0.2771758554020645, 1.0645062447830609, 'Web Designing'),\n",
       "  Text(-0.5706079161115722, 0.9404289479119671, 'Mechanical Engineer'),\n",
       "  Text(-0.8089120262381768, 0.7454269473310228, 'Sales'),\n",
       "  Text(-0.9773196261993998, 0.5048230860860717, 'Health and fitness'),\n",
       "  Text(-1.0745482070561094, 0.23525762625789806, 'Civil Engineer'),\n",
       "  Text(-1.0988505454600117, -0.05027403646252011, 'Java Developer'),\n",
       "  Text(-1.0485773173407904, -0.3323937567981556, 'Business Analyst'),\n",
       "  Text(-0.9271404102234844, -0.5919549473825093, 'SAP Developer'),\n",
       "  Text(-0.7427813690411197, -0.811341998053472, 'Automation Testing'),\n",
       "  Text(-0.5207132389301881, -0.9689467079271352, 'Electrical Engineering'),\n",
       "  Text(-0.291057286964679, -1.0607948226234707, 'Operations Manager'),\n",
       "  Text(-0.06820918972358185, -1.0978831934396538, 'Python Developer'),\n",
       "  Text(0.1468428137867617, -1.090154662439778, 'DevOps Engineer'),\n",
       "  Text(0.3562750949493746, -1.0407055571672585, 'Network Security Engineer'),\n",
       "  Text(0.5458467418638039, -0.9550137875427087, 'PMO'),\n",
       "  Text(0.7104240059216687, -0.8398200591854239, 'Database'),\n",
       "  Text(0.846739597801269, -0.7021624124911171, 'Hadoop'),\n",
       "  Text(0.951428223774236, -0.552072762419776, 'ETL Developer'),\n",
       "  Text(1.0272385217200501, -0.39342218988563205, 'DotNet Developer'),\n",
       "  Text(1.076061824093374, -0.228234420561056, 'Blockchain'),\n",
       "  Text(1.097654589067232, -0.07179417176655802, 'Testing')],\n",
       " [Text(0.5775661248836225, 0.16253421604977775, '8.7%'),\n",
       "  Text(0.4277136800819486, 0.42078617832666093, '7.3%'),\n",
       "  Text(0.22553081254960247, 0.5559998674376785, '5.7%'),\n",
       "  Text(0.029379453314209204, 0.5992802747654541, '5.0%'),\n",
       "  Text(-0.1511868302193079, 0.5806397698816695, '4.7%'),\n",
       "  Text(-0.311240681515403, 0.5129612443156183, '4.6%'),\n",
       "  Text(-0.44122474158446, 0.4065965167260124, '4.4%'),\n",
       "  Text(-0.5330834324723999, 0.2753580469560391, '4.2%'),\n",
       "  Text(-0.5861172038487868, 0.1283223415952171, '4.2%'),\n",
       "  Text(-0.59937302479637, -0.027422201706829148, '4.2%'),\n",
       "  Text(-0.5719512640040675, -0.18130568552626666, '4.2%'),\n",
       "  Text(-0.5057129510309915, -0.32288451675409596, '4.2%'),\n",
       "  Text(-0.40515347402242885, -0.4425501807564392, '4.2%'),\n",
       "  Text(-0.2840254030528298, -0.5285163861420736, '3.7%'),\n",
       "  Text(-0.15875852016255215, -0.5786153577946203, '3.4%'),\n",
       "  Text(-0.037205012576499184, -0.5988453782398111, '3.1%'),\n",
       "  Text(0.08009608024732456, -0.5946298158762425, '3.1%'),\n",
       "  Text(0.1943318699723861, -0.5676575766366865, '3.1%'),\n",
       "  Text(0.29773458647116574, -0.5209166113869319, '2.9%'),\n",
       "  Text(0.38750400323000106, -0.4580836686465948, '2.9%'),\n",
       "  Text(0.4618579624370557, -0.38299767954060926, '2.7%'),\n",
       "  Text(0.5189608493314014, -0.30113059768351413, '2.6%'),\n",
       "  Text(0.5603119209382091, -0.21459392175579928, '2.5%'),\n",
       "  Text(0.5869428131418403, -0.12449150212421235, '2.5%'),\n",
       "  Text(0.5987206849457629, -0.03916045732721345, '2.1%')])"
      ]
     },
     "execution_count": 10,
     "metadata": {},
     "output_type": "execute_result"
    },
    {
     "data": {
      "image/png": "[encoded data removed]",
      "text/plain": [
       "<Figure size 2000x1000 with 1 Axes>"
      ]
     },
     "metadata": {},
     "output_type": "display_data"
    }
   ],
   "source": [
    "# Analysis category variable using the pie plot \n",
    "plt.figure(figsize=(20,10))\n",
    "count=data['Category'].value_counts()\n",
    "label=data['Category'].unique()\n",
    "plt.pie(count,labels=label,autopct='%1.1f%%',shadow=True,colors=plt.cm.coolwarm(np.linspace(0,1,3)))   # plasma and coolwarm for colors"
   ]
  },
  {
   "cell_type": "markdown",
   "id": "c583d83e",
   "metadata": {},
   "source": [
    "# exploring resume"
   ]
  },
  {
   "cell_type": "code",
   "execution_count": 11,
   "id": "24fbf712",
   "metadata": {
    "collapsed": true
   },
   "outputs": [
    {
     "data": {
      "text/plain": [
       "0      Data Science\n",
       "1      Data Science\n",
       "2      Data Science\n",
       "3      Data Science\n",
       "4      Data Science\n",
       "           ...     \n",
       "957         Testing\n",
       "958         Testing\n",
       "959         Testing\n",
       "960         Testing\n",
       "961         Testing\n",
       "Name: Category, Length: 962, dtype: object"
      ]
     },
     "execution_count": 11,
     "metadata": {},
     "output_type": "execute_result"
    }
   ],
   "source": [
    "data['Category']"
   ]
  },
  {
   "cell_type": "code",
   "execution_count": 12,
   "id": "7d1bf5fa",
   "metadata": {},
   "outputs": [
    {
     "data": {
      "text/plain": [
       "'Skills * Programming Languages: Python (pandas, numpy, scipy, scikit-learn, matplotlib), Sql, Java, JavaScript/JQuery. * Machine learning: Regression, SVM, NaÃ¯ve Bayes, KNN, Random Forest, Decision Trees, Boosting techniques, Cluster Analysis, Word Embedding, Sentiment Analysis, Natural Language processing, Dimensionality reduction, Topic Modelling (LDA, NMF), PCA & Neural Nets. * Database Visualizations: Mysql, SqlServer, Cassandra, Hbase, ElasticSearch D3.js, DC.js, Plotly, kibana, matplotlib, ggplot, Tableau. * Others: Regular Expression, HTML, CSS, Angular 6, Logstash, Kafka, Python Flask, Git, Docker, computer vision - Open CV and understanding of Deep learning.Education Details \\r\\n\\r\\nData Science Assurance Associate \\r\\n\\r\\nData Science Assurance Associate - Ernst & Young LLP\\r\\nSkill Details \\r\\nJAVASCRIPT- Exprience - 24 months\\r\\njQuery- Exprience - 24 months\\r\\nPython- Exprience - 24 monthsCompany Details \\r\\ncompany - Ernst & Young LLP\\r\\ndescription - Fraud Investigations and Dispute Services   Assurance\\r\\nTECHNOLOGY ASSISTED REVIEW\\r\\nTAR (Technology Assisted Review) assists in accelerating the review process and run analytics and generate reports.\\r\\n* Core member of a team helped in developing automated review platform tool from scratch for assisting E discovery domain, this tool implements predictive coding and topic modelling by automating reviews, resulting in reduced labor costs and time spent during the lawyers review.\\r\\n* Understand the end to end flow of the solution, doing research and development for classification models, predictive analysis and mining of the information present in text data. Worked on analyzing the outputs and precision monitoring for the entire tool.\\r\\n* TAR assists in predictive coding, topic modelling from the evidence by following EY standards. Developed the classifier models in order to identify \"red flags\" and fraud-related issues.\\r\\n\\r\\nTools & Technologies: Python, scikit-learn, tfidf, word2vec, doc2vec, cosine similarity, NaÃ¯ve Bayes, LDA, NMF for topic modelling, Vader and text blob for sentiment analysis. Matplot lib, Tableau dashboard for reporting.\\r\\n\\r\\nMULTIPLE DATA SCIENCE AND ANALYTIC PROJECTS (USA CLIENTS)\\r\\nTEXT ANALYTICS - MOTOR VEHICLE CUSTOMER REVIEW DATA * Received customer feedback survey data for past one year. Performed sentiment (Positive, Negative & Neutral) and time series analysis on customer comments across all 4 categories.\\r\\n* Created heat map of terms by survey category based on frequency of words * Extracted Positive and Negative words across all the Survey categories and plotted Word cloud.\\r\\n* Created customized tableau dashboards for effective reporting and visualizations.\\r\\nCHATBOT * Developed a user friendly chatbot for one of our Products which handle simple questions about hours of operation, reservation options and so on.\\r\\n* This chat bot serves entire product related questions. Giving overview of tool via QA platform and also give recommendation responses so that user question to build chain of relevant answer.\\r\\n* This too has intelligence to build the pipeline of questions as per user requirement and asks the relevant /recommended questions.\\r\\n\\r\\nTools & Technologies: Python, Natural language processing, NLTK, spacy, topic modelling, Sentiment analysis, Word Embedding, scikit-learn, JavaScript/JQuery, SqlServer\\r\\n\\r\\nINFORMATION GOVERNANCE\\r\\nOrganizations to make informed decisions about all of the information they store. The integrated Information Governance portfolio synthesizes intelligence across unstructured data sources and facilitates action to ensure organizations are best positioned to counter information risk.\\r\\n* Scan data from multiple sources of formats and parse different file formats, extract Meta data information, push results for indexing elastic search and created customized, interactive dashboards using kibana.\\r\\n* Preforming ROT Analysis on the data which give information of data which helps identify content that is either Redundant, Outdated, or Trivial.\\r\\n* Preforming full-text search analysis on elastic search with predefined methods which can tag as (PII) personally identifiable information (social security numbers, addresses, names, etc.) which frequently targeted during cyber-attacks.\\r\\nTools & Technologies: Python, Flask, Elastic Search, Kibana\\r\\n\\r\\nFRAUD ANALYTIC PLATFORM\\r\\nFraud Analytics and investigative platform to review all red flag cases.\\r\\nâ\\x80¢ FAP is a Fraud Analytics and investigative platform with inbuilt case manager and suite of Analytics for various ERP systems.\\r\\n* It can be used by clients to interrogate their Accounting systems for identifying the anomalies which can be indicators of fraud by running advanced analytics\\r\\nTools & Technologies: HTML, JavaScript, SqlServer, JQuery, CSS, Bootstrap, Node.js, D3.js, DC.js'"
      ]
     },
     "execution_count": 12,
     "metadata": {},
     "output_type": "execute_result"
    }
   ],
   "source": [
    "#Checked the first row detail\n",
    "data['Resume'][0]"
   ]
  },
  {
   "cell_type": "markdown",
   "id": "8b895dc9",
   "metadata": {},
   "source": [
    "## Cleaning data:\n",
    "*1.URLs,\n",
    "*2.Hashtags,\n",
    "*3.stop words\n",
    "*4.special letter\n",
    "*5.Punctuations\n"
   ]
  },
  {
   "cell_type": "markdown",
   "id": "40264238",
   "metadata": {},
   "source": [
    "Re module:In Natural Language Processing (NLP), import re refers to importing the Python re module, \n",
    "which stands for \"regular expressions\". Regular expressions (regex) are powerful tools for\n",
    " working with text data. They provide a concise and flexible means for matching strings of text, \n",
    "which makes them particularly useful in NLP tasks such as text preprocessing, tokenization, \n",
    "and pattern matching."
   ]
  },
  {
   "cell_type": "code",
   "execution_count": 16,
   "id": "c48081d8",
   "metadata": {},
   "outputs": [],
   "source": [
    "\n",
    "import re\n",
    "def cleanResume(txt):\n",
    "    cleanText = re.sub('http\\S+\\s', ' ', txt)   # it will remove the urls\n",
    "    cleanText = re.sub('RT|cc', ' ', cleanText)\n",
    "    cleanText = re.sub('#\\S+\\s', ' ', cleanText)\n",
    "    cleanText = re.sub('@\\S+', '  ', cleanText)  \n",
    "    cleanText = re.sub('[%s]' % re.escape(\"\"\"!\"#$%&'()*+,-./:;<=>?@[\\]^_`{|}~\"\"\"), ' ', cleanText)\n",
    "    cleanText = re.sub(r'[^\\x00-\\x7f]', ' ', cleanText) \n",
    "    cleanText = re.sub('\\s+', ' ', cleanText)\n",
    "    return cleanText"
   ]
  },
  {
   "cell_type": "code",
   "execution_count": 17,
   "id": "c4f9d1df",
   "metadata": {},
   "outputs": [
    {
     "data": {
      "text/plain": [
       "'my webiste like is this and a ess it '"
      ]
     },
     "execution_count": 17,
     "metadata": {},
     "output_type": "execute_result"
    }
   ],
   "source": [
    "cleanResume(\"my #### $ #  #noorsaeed webiste like is this http://heloword and access it @gmain.com\")\n"
   ]
  },
  {
   "cell_type": "code",
   "execution_count": 18,
   "id": "7f60ce08",
   "metadata": {},
   "outputs": [
    {
     "data": {
      "text/plain": [
       "'my webiste like is this and a ess it '"
      ]
     },
     "execution_count": 18,
     "metadata": {},
     "output_type": "execute_result"
    }
   ],
   "source": [
    "'my #### $ #  #noorsaeed webiste like is this  and a ess it @gmain.com'\n",
    "'my  $ #   webiste like is this  and a ess it @gmain.com'\n",
    "'my  $ #   webiste like is this  and a ess it   '  # cleanText = re.sub('[%s]' % re.escape(\"\"\"!\"#$%&'()*+,-./:;<=>?@[\\]^_`{|}~\"\"\"), ' ', cleanText)\n",
    "'my        webiste like is this  and a ess it   '  #\n",
    "'my webiste like is this and a ess it ' # cleanText = re.sub('\\s+', ' ', cleanText)"
   ]
  },
  {
   "cell_type": "code",
   "execution_count": 19,
   "id": "681a4888",
   "metadata": {},
   "outputs": [
    {
     "data": {
      "text/plain": [
       "0      Skills * Programming Languages: Python (pandas...\n",
       "1      Education Details \\r\\nMay 2013 to May 2017 B.E...\n",
       "2      Areas of Interest Deep Learning, Control Syste...\n",
       "3      Skills â¢ R â¢ Python â¢ SAP HANA â¢ Table...\n",
       "4      Education Details \\r\\n MCA   YMCAUST,  Faridab...\n",
       "                             ...                        \n",
       "957    Computer Skills: â¢ Proficient in MS office (...\n",
       "958    â Willingness to accept the challenges. â ...\n",
       "959    PERSONAL SKILLS â¢ Quick learner, â¢ Eagerne...\n",
       "960    COMPUTER SKILLS & SOFTWARE KNOWLEDGE MS-Power ...\n",
       "961    Skill Set OS Windows XP/7/8/8.1/10 Database MY...\n",
       "Name: Resume, Length: 962, dtype: object"
      ]
     },
     "execution_count": 19,
     "metadata": {},
     "output_type": "execute_result"
    }
   ],
   "source": [
    "data['Resume']"
   ]
  },
  {
   "cell_type": "code",
   "execution_count": 20,
   "id": "2809818c",
   "metadata": {},
   "outputs": [],
   "source": [
    "# applying the def function on resume\n",
    "data['New_resume']=data['Resume'].apply(lambda x:cleanResume(x))"
   ]
  },
  {
   "cell_type": "code",
   "execution_count": 21,
   "id": "b072a1ee",
   "metadata": {},
   "outputs": [
    {
     "data": {
      "text/plain": [
       "'Skills Programming Languages Python pandas numpy scipy scikit learn matplotlib Sql Java JavaScript JQuery Machine learning Regression SVM Na ve Bayes KNN Random Forest Decision Trees Boosting techniques Cluster Analysis Word Embedding Sentiment Analysis Natural Language processing Dimensionality reduction Topic Modelling LDA NMF PCA Neural Nets Database Visualizations Mysql SqlServer Cassandra Hbase ElasticSearch D3 js DC js Plotly kibana matplotlib ggplot Tableau Others Regular Expression HTML CSS Angular 6 Logstash Kafka Python Flask Git Docker computer vision Open CV and understanding of Deep learning Education Details Data Science Assurance Associate Data Science Assurance Associate Ernst Young LLP Skill Details JAVASCRIPT Exprience 24 months jQuery Exprience 24 months Python Exprience 24 monthsCompany Details company Ernst Young LLP description Fraud Investigations and Dispute Services Assurance TECHNOLOGY ASSISTED REVIEW TAR Technology Assisted Review assists in a elerating the review process and run analytics and generate reports Core member of a team helped in developing automated review platform tool from scratch for assisting E discovery domain this tool implements predictive coding and topic modelling by automating reviews resulting in reduced labor costs and time spent during the lawyers review Understand the end to end flow of the solution doing research and development for classification models predictive analysis and mining of the information present in text data Worked on analyzing the outputs and precision monitoring for the entire tool TAR assists in predictive coding topic modelling from the evidence by following EY standards Developed the classifier models in order to identify red flags and fraud related issues Tools Technologies Python scikit learn tfidf word2vec doc2vec cosine similarity Na ve Bayes LDA NMF for topic modelling Vader and text blob for sentiment analysis Matplot lib Tableau dashboard for reporting MULTIPLE DATA SCIENCE AND ANALYTIC PROJECTS USA CLIENTS TEXT ANALYTICS MOTOR VEHICLE CUSTOMER REVIEW DATA Received customer feedback survey data for past one year Performed sentiment Positive Negative Neutral and time series analysis on customer comments across all 4 categories Created heat map of terms by survey category based on frequency of words Extracted Positive and Negative words across all the Survey categories and plotted Word cloud Created customized tableau dashboards for effective reporting and visualizations CHATBOT Developed a user friendly chatbot for one of our Products which handle simple questions about hours of operation reservation options and so on This chat bot serves entire product related questions Giving overview of tool via QA platform and also give recommendation responses so that user question to build chain of relevant answer This too has intelligence to build the pipeline of questions as per user requirement and asks the relevant recommended questions Tools Technologies Python Natural language processing NLTK spacy topic modelling Sentiment analysis Word Embedding scikit learn JavaScript JQuery SqlServer INFORMATION GOVERNANCE Organizations to make informed decisions about all of the information they store The integrated Information Governance portfolio synthesizes intelligence across unstructured data sources and facilitates action to ensure organizations are best positioned to counter information risk Scan data from multiple sources of formats and parse different file formats extract Meta data information push results for indexing elastic search and created customized interactive dashboards using kibana Preforming ROT Analysis on the data which give information of data which helps identify content that is either Redundant Outdated or Trivial Preforming full text search analysis on elastic search with predefined methods which can tag as PII personally identifiable information social security numbers addresses names etc which frequently targeted during cyber attacks Tools Technologies Python Flask Elastic Search Kibana FRAUD ANALYTIC PLATFORM Fraud Analytics and investigative platform to review all red flag cases FAP is a Fraud Analytics and investigative platform with inbuilt case manager and suite of Analytics for various ERP systems It can be used by clients to interrogate their A ounting systems for identifying the anomalies which can be indicators of fraud by running advanced analytics Tools Technologies HTML JavaScript SqlServer JQuery CSS Bootstrap Node js D3 js DC js'"
      ]
     },
     "execution_count": 21,
     "metadata": {},
     "output_type": "execute_result"
    }
   ],
   "source": [
    "data['New_resume'][0]"
   ]
  },
  {
   "cell_type": "markdown",
   "id": "045dcf1d",
   "metadata": {},
   "source": [
    "## Words into categorical values"
   ]
  },
  {
   "cell_type": "code",
   "execution_count": 22,
   "id": "bf8814a2",
   "metadata": {},
   "outputs": [],
   "source": [
    "# Convert the target variable into numerical\n",
    "from sklearn.preprocessing import LabelEncoder\n",
    "le=LabelEncoder()"
   ]
  },
  {
   "cell_type": "code",
   "execution_count": 23,
   "id": "09157a45",
   "metadata": {},
   "outputs": [],
   "source": [
    "le.fit(data['Category'])\n",
    "data['Category']=le.transform(data['Category'])"
   ]
  },
  {
   "cell_type": "code",
   "execution_count": 24,
   "id": "57d149f1",
   "metadata": {},
   "outputs": [
    {
     "data": {
      "text/plain": [
       "array([ 6, 12,  0,  1, 24, 16, 22, 14,  5, 15,  4, 21,  2, 11, 18, 20,  8,\n",
       "       17, 19,  7, 13, 10,  9,  3, 23])"
      ]
     },
     "execution_count": 24,
     "metadata": {},
     "output_type": "execute_result"
    }
   ],
   "source": [
    "# It convert all the labels into numericals\n",
    "data['Category'].unique()"
   ]
  },
  {
   "cell_type": "markdown",
   "id": "79c21555",
   "metadata": {},
   "source": [
    "## Vectorization"
   ]
  },
  {
   "cell_type": "code",
   "execution_count": 25,
   "id": "e3b40be5",
   "metadata": {},
   "outputs": [
    {
     "data": {
      "text/plain": [
       "0      Skills Programming Languages Python pandas num...\n",
       "1      Education Details May 2013 to May 2017 B E UIT...\n",
       "2      Areas of Interest Deep Learning Control System...\n",
       "3      Skills R Python SAP HANA Tableau SAP HANA SQL ...\n",
       "4      Education Details MCA YMCAUST Faridabad Haryan...\n",
       "                             ...                        \n",
       "957    Computer Skills Proficient in MS office Word B...\n",
       "958     Willingness to a ept the challenges Positive ...\n",
       "959    PERSONAL SKILLS Quick learner Eagerness to lea...\n",
       "960    COMPUTER SKILLS SOFTWARE KNOWLEDGE MS Power Po...\n",
       "961    Skill Set OS Windows XP 7 8 8 1 10 Database MY...\n",
       "Name: New_resume, Length: 962, dtype: object"
      ]
     },
     "execution_count": 25,
     "metadata": {},
     "output_type": "execute_result"
    }
   ],
   "source": [
    "data['New_resume']"
   ]
  },
  {
   "cell_type": "code",
   "execution_count": 26,
   "id": "8173213c",
   "metadata": {},
   "outputs": [],
   "source": [
    "from sklearn.feature_extraction.text import TfidfVectorizer\n",
    "tfidf=TfidfVectorizer(stop_words='english')\n",
    "tfidf.fit(data['New_resume'])\n",
    "requredtext=tfidf.transform(data['New_resume'])"
   ]
  },
  {
   "cell_type": "code",
   "execution_count": 27,
   "id": "96ceb2d1",
   "metadata": {},
   "outputs": [
    {
     "data": {
      "text/plain": [
       "<962x7351 sparse matrix of type '<class 'numpy.float64'>'\n",
       "\twith 164261 stored elements in Compressed Sparse Row format>"
      ]
     },
     "execution_count": 27,
     "metadata": {},
     "output_type": "execute_result"
    }
   ],
   "source": [
    "requredtext"
   ]
  },
  {
   "cell_type": "markdown",
   "id": "3413abf0",
   "metadata": {},
   "source": [
    "## Splitting the dataset"
   ]
  },
  {
   "cell_type": "code",
   "execution_count": 28,
   "id": "7ad4f91c",
   "metadata": {},
   "outputs": [],
   "source": [
    "from sklearn.model_selection import train_test_split"
   ]
  },
  {
   "cell_type": "code",
   "execution_count": 29,
   "id": "769f9028",
   "metadata": {},
   "outputs": [],
   "source": [
    "x_train,x_test,y_train,y_test=train_test_split(requredtext,data['Category'],test_size=0.2,random_state=3)"
   ]
  },
  {
   "cell_type": "code",
   "execution_count": 30,
   "id": "db658df5",
   "metadata": {},
   "outputs": [
    {
     "data": {
      "text/plain": [
       "(769, 7351)"
      ]
     },
     "execution_count": 30,
     "metadata": {},
     "output_type": "execute_result"
    }
   ],
   "source": [
    "x_train.shape"
   ]
  },
  {
   "cell_type": "code",
   "execution_count": 31,
   "id": "96ea4c4f",
   "metadata": {},
   "outputs": [
    {
     "data": {
      "text/plain": [
       "(193, 7351)"
      ]
     },
     "execution_count": 31,
     "metadata": {},
     "output_type": "execute_result"
    }
   ],
   "source": [
    "x_test.shape"
   ]
  },
  {
   "cell_type": "markdown",
   "id": "3a2568ad",
   "metadata": {},
   "source": [
    "## Now let’s train the model and print the classification report:"
   ]
  },
  {
   "cell_type": "markdown",
   "id": "5d936cb1",
   "metadata": {},
   "source": [
    "## KNeighborsClassifier"
   ]
  },
  {
   "cell_type": "code",
   "execution_count": 32,
   "id": "642d2b3b",
   "metadata": {},
   "outputs": [],
   "source": [
    "from sklearn.neighbors import KNeighborsClassifier\n",
    "from sklearn.multiclass import OneVsRestClassifier\n",
    "from sklearn.metrics import accuracy_score"
   ]
  },
  {
   "cell_type": "code",
   "execution_count": 33,
   "id": "beb56a68",
   "metadata": {},
   "outputs": [],
   "source": [
    "from sklearn.neighbors import KNeighborsClassifier\n",
    "from sklearn.multiclass import OneVsRestClassifier\n",
    "clf=OneVsRestClassifier(KNeighborsClassifier())\n",
    "clf.fit(x_train,y_train)\n",
    "y_pred=clf.predict(x_test)"
   ]
  },
  {
   "cell_type": "code",
   "execution_count": 34,
   "id": "df0cc442",
   "metadata": {
    "collapsed": true
   },
   "outputs": [
    {
     "data": {
      "text/plain": [
       "array([17, 20,  5, 12, 23, 17, 15, 10, 20,  8, 22, 12, 17, 24, 13, 23,  3,\n",
       "       16, 23, 14,  1, 15, 15, 17, 23,  1,  3,  2, 22, 16, 15, 20, 21,  8,\n",
       "       13, 14,  3, 11, 11,  7, 16, 24,  0,  8, 22,  6, 15,  6, 13, 15, 15,\n",
       "        9,  8, 23,  2, 13, 11,  7, 17,  8, 12, 13, 12, 17, 10, 24, 12,  7,\n",
       "        2,  3, 15,  6, 16, 23,  2, 23,  8, 22, 23, 10,  8, 16,  8,  6, 20,\n",
       "       22,  8, 14, 12, 15, 15, 24,  0,  6, 12,  8, 18,  2, 20, 16,  9, 18,\n",
       "       18, 14,  5, 24, 23, 10, 18, 21, 17, 15,  0,  4, 10, 14, 10, 23, 20,\n",
       "        2,  2, 16, 15, 22, 22, 15,  8,  0,  7,  5,  0, 24, 22, 13, 22,  3,\n",
       "       12,  1,  1, 15,  4, 24, 20,  6, 23,  8, 20,  1,  9, 21,  9,  1, 18,\n",
       "       18, 12,  7,  6, 10, 15, 12, 16,  7,  6, 16, 14, 15, 10, 20,  9,  4,\n",
       "       14, 15,  7, 13,  3, 24, 11,  4, 21, 16, 12,  1,  3, 24, 18,  8, 16,\n",
       "        0, 12,  6, 15,  1,  4])"
      ]
     },
     "execution_count": 34,
     "metadata": {},
     "output_type": "execute_result"
    }
   ],
   "source": [
    "y_pred     # Test data predictors"
   ]
  },
  {
   "cell_type": "code",
   "execution_count": 35,
   "id": "ed480c95",
   "metadata": {},
   "outputs": [
    {
     "name": "stdout",
     "output_type": "stream",
     "text": [
      "Test prediction: 0.9740932642487047\n"
     ]
    }
   ],
   "source": [
    "from sklearn.metrics import accuracy_score\n",
    "test_accuracy_score=accuracy_score(y_pred,y_test)\n",
    "print('Test prediction:',test_accuracy_score)"
   ]
  },
  {
   "cell_type": "code",
   "execution_count": 36,
   "id": "5cc769e1",
   "metadata": {
    "collapsed": true
   },
   "outputs": [
    {
     "data": {
      "text/plain": [
       "array([ 3, 13, 23, 10, 10, 10, 19,  9, 17,  1, 13, 20,  1, 20,  6, 22,  1,\n",
       "        7, 13, 18, 16,  8,  7, 24, 22, 23, 11, 15, 22, 14, 15, 18, 15, 15,\n",
       "       23, 23,  1, 24, 18,  4, 17,  1,  1, 16,  4,  8, 17, 20,  5, 10, 15,\n",
       "       10, 23,  6,  3, 15,  6, 14, 21, 12, 18, 20, 20,  1,  9,  1, 23, 11,\n",
       "       19,  7, 20, 15, 22, 16, 15, 10, 23, 24, 21, 23,  0, 21, 21, 15, 16,\n",
       "        3, 23, 16,  6, 24, 20, 15,  1, 20, 13,  6,  1, 10,  8, 22, 20, 13,\n",
       "       22, 22, 15, 23,  2,  3, 15,  9, 15,  8,  2,  3, 10,  1, 12, 23, 15,\n",
       "        8,  3,  7,  6, 23, 15,  1, 18, 22, 17, 21, 18, 16, 19, 12, 18, 20,\n",
       "       24, 14, 24, 12,  8,  9,  7, 24, 15, 22,  7, 18, 19,  3, 16,  3, 13,\n",
       "       16, 12, 15, 18, 20, 24,  8, 13, 15,  5, 15, 10, 21, 19, 20, 15, 23,\n",
       "       24, 20, 12, 19, 15,  8, 19,  3, 15, 11,  4, 13, 18,  8,  4, 20, 13,\n",
       "        1, 13,  5, 14, 10, 19,  1, 18, 10,  1,  2, 21, 18, 13, 14,  5, 15,\n",
       "        4, 14,  1, 15,  9, 15,  2, 19, 16, 13, 20, 13,  8, 12,  5,  8, 15,\n",
       "       16, 13, 14,  6, 15, 20, 13, 12, 15,  3,  1, 23,  6, 10,  8, 21,  0,\n",
       "        2, 11, 12, 20, 18, 15, 21, 12,  3, 22, 24, 15, 23, 23, 12, 23, 17,\n",
       "        1, 11, 19, 12,  8, 23, 18, 13,  9, 15, 18, 23, 15,  6, 12, 13, 24,\n",
       "        6, 12, 15, 24, 20, 18, 23, 24, 22, 19, 24,  7, 15, 23, 15,  4, 21,\n",
       "       10, 23, 23,  8, 24,  7, 15,  9, 12,  7, 11, 24, 19, 23, 20, 13,  6,\n",
       "        5, 10, 13,  6, 13,  5, 22, 22,  0, 18, 11,  4, 19, 19, 16,  8,  4,\n",
       "       16, 13, 18, 23, 21,  7, 14, 12, 21, 23, 12, 20,  4, 12,  3, 23,  6,\n",
       "       13, 18, 21, 23,  4, 11, 13, 15,  2,  1, 14, 10,  8, 22,  4, 23, 16,\n",
       "       23,  0,  2,  8, 11, 24,  8, 10,  5, 15,  1, 14, 15, 13,  0, 13, 14,\n",
       "        2,  8,  9, 17, 16, 15, 15, 15,  6, 15, 23, 15,  5,  3, 15, 23, 22,\n",
       "        5, 19, 22,  0,  7,  3,  9, 12, 18, 15,  8, 21,  3, 19, 11,  8, 10,\n",
       "        7, 22,  5, 16, 24, 20,  1, 11,  1,  0,  8, 18, 11, 17,  3, 12, 23,\n",
       "       19, 14, 15, 24, 16,  3, 16, 15,  6,  4,  9, 16, 15,  2,  2, 18, 12,\n",
       "       22, 20,  5, 20,  7, 23,  6, 11,  2, 23,  8, 14, 22, 23,  9,  3, 20,\n",
       "       16,  4, 15, 10, 12, 23, 20,  6, 12, 18, 23, 23,  1, 22, 12, 18, 20,\n",
       "       20, 13,  8, 15, 16, 23, 23,  6, 11,  7, 23,  7, 19, 22, 14,  8, 20,\n",
       "        9, 23,  2, 15, 21, 17,  5, 21, 17, 13, 21, 15,  4, 14, 20,  9, 10,\n",
       "       14, 17,  7, 20,  7,  3,  3, 22, 22, 24, 11, 15, 10,  4, 18, 24, 24,\n",
       "       22, 19,  0, 16, 20, 19,  2, 23,  8,  9,  6, 16, 15, 16, 16,  9, 15,\n",
       "       23, 15,  6, 10, 15, 16,  7, 19, 22, 19,  4, 10,  3,  8, 13,  5, 12,\n",
       "        7,  8,  6, 21,  6, 10, 13, 15, 16,  0,  5, 15, 15, 15,  2, 13, 20,\n",
       "       20, 19,  6, 23, 17, 17, 24, 10, 10,  4, 10,  3, 16, 14, 20, 23, 11,\n",
       "        3, 10,  3, 23, 23, 11,  9,  9,  1, 12, 19,  6,  0, 18, 20, 23, 13,\n",
       "       10, 18, 15,  5, 10, 24, 22, 18, 11, 21,  8,  2,  6, 12, 24, 11,  7,\n",
       "        3, 10, 22, 12, 22, 24,  6, 24, 19,  7,  1, 14, 12,  5,  9, 12,  7,\n",
       "       15, 16, 14,  5,  7, 21, 11, 11,  6,  6, 19, 24, 14,  5,  8,  9,  8,\n",
       "       14, 23, 19, 11, 11, 24,  9, 23, 19, 13, 23,  6, 24,  6, 13, 11, 11,\n",
       "        5, 14, 20,  4,  4, 24, 16,  3, 24,  9, 23, 17,  9, 18,  7,  8, 13,\n",
       "       23,  1,  3,  6,  1, 23, 19, 13, 24, 24, 17, 15, 14, 19,  6, 20,  3,\n",
       "       18, 11,  7, 15,  4, 20,  3,  6, 10, 24, 15, 15, 18, 24, 18,  9, 11,\n",
       "       24,  8,  4,  8,  8,  3, 20,  3,  8,  5, 22,  9, 17,  2, 15, 18, 11,\n",
       "       15,  4,  2, 23, 17,  2,  4,  1, 23,  8, 19,  3,  7, 17, 10, 22, 23,\n",
       "        8, 22, 17,  3])"
      ]
     },
     "execution_count": 36,
     "metadata": {},
     "output_type": "execute_result"
    }
   ],
   "source": [
    "## Training data prediction\n",
    "train_pred=clf.predict(x_train)\n",
    "train_pred"
   ]
  },
  {
   "cell_type": "code",
   "execution_count": 37,
   "id": "500eb1ab",
   "metadata": {},
   "outputs": [
    {
     "name": "stdout",
     "output_type": "stream",
     "text": [
      "Training data prediction: 0.988296488946684\n"
     ]
    }
   ],
   "source": [
    "train_accuracy_score=accuracy_score(y_train,train_pred)\n",
    "print('Training data prediction:',train_accuracy_score)"
   ]
  },
  {
   "cell_type": "markdown",
   "id": "c326e550",
   "metadata": {},
   "source": [
    "## Random_Forest"
   ]
  },
  {
   "cell_type": "code",
   "execution_count": 38,
   "id": "5b4f9f38",
   "metadata": {},
   "outputs": [
    {
     "data": {
      "text/html": [
       "<style>#sk-container-id-1 {\n",
       "  /* Definition of color scheme common for light and dark mode */\n",
       "  --sklearn-color-text: black;\n",
       "  --sklearn-color-line: gray;\n",
       "  /* Definition of color scheme for unfitted estimators */\n",
       "  --sklearn-color-unfitted-level-0: #fff5e6;\n",
       "  --sklearn-color-unfitted-level-1: #f6e4d2;\n",
       "  --sklearn-color-unfitted-level-2: #ffe0b3;\n",
       "  --sklearn-color-unfitted-level-3: chocolate;\n",
       "  /* Definition of color scheme for fitted estimators */\n",
       "  --sklearn-color-fitted-level-0: #f0f8ff;\n",
       "  --sklearn-color-fitted-level-1: #d4ebff;\n",
       "  --sklearn-color-fitted-level-2: #b3dbfd;\n",
       "  --sklearn-color-fitted-level-3: cornflowerblue;\n",
       "\n",
       "  /* Specific color for light theme */\n",
       "  --sklearn-color-text-on-default-background: var(--sg-text-color, var(--theme-code-foreground, var(--jp-content-font-color1, black)));\n",
       "  --sklearn-color-background: var(--sg-background-color, var(--theme-background, var(--jp-layout-color0, white)));\n",
       "  --sklearn-color-border-box: var(--sg-text-color, var(--theme-code-foreground, var(--jp-content-font-color1, black)));\n",
       "  --sklearn-color-icon: #696969;\n",
       "\n",
       "  @media (prefers-color-scheme: dark) {\n",
       "    /* Redefinition of color scheme for dark theme */\n",
       "    --sklearn-color-text-on-default-background: var(--sg-text-color, var(--theme-code-foreground, var(--jp-content-font-color1, white)));\n",
       "    --sklearn-color-background: var(--sg-background-color, var(--theme-background, var(--jp-layout-color0, #111)));\n",
       "    --sklearn-color-border-box: var(--sg-text-color, var(--theme-code-foreground, var(--jp-content-font-color1, white)));\n",
       "    --sklearn-color-icon: #878787;\n",
       "  }\n",
       "}\n",
       "\n",
       "#sk-container-id-1 {\n",
       "  color: var(--sklearn-color-text);\n",
       "}\n",
       "\n",
       "#sk-container-id-1 pre {\n",
       "  padding: 0;\n",
       "}\n",
       "\n",
       "#sk-container-id-1 input.sk-hidden--visually {\n",
       "  border: 0;\n",
       "  clip: rect(1px 1px 1px 1px);\n",
       "  clip: rect(1px, 1px, 1px, 1px);\n",
       "  height: 1px;\n",
       "  margin: -1px;\n",
       "  overflow: hidden;\n",
       "  padding: 0;\n",
       "  position: absolute;\n",
       "  width: 1px;\n",
       "}\n",
       "\n",
       "#sk-container-id-1 div.sk-dashed-wrapped {\n",
       "  border: 1px dashed var(--sklearn-color-line);\n",
       "  margin: 0 0.4em 0.5em 0.4em;\n",
       "  box-sizing: border-box;\n",
       "  padding-bottom: 0.4em;\n",
       "  background-color: var(--sklearn-color-background);\n",
       "}\n",
       "\n",
       "#sk-container-id-1 div.sk-container {\n",
       "  /* jupyter's `normalize.less` sets `[hidden] { display: none; }`\n",
       "     but bootstrap.min.css set `[hidden] { display: none !important; }`\n",
       "     so we also need the `!important` here to be able to override the\n",
       "     default hidden behavior on the sphinx rendered scikit-learn.org.\n",
       "     See: https://github.com/scikit-learn/scikit-learn/issues/21755 */\n",
       "  display: inline-block !important;\n",
       "  position: relative;\n",
       "}\n",
       "\n",
       "#sk-container-id-1 div.sk-text-repr-fallback {\n",
       "  display: none;\n",
       "}\n",
       "\n",
       "div.sk-parallel-item,\n",
       "div.sk-serial,\n",
       "div.sk-item {\n",
       "  /* draw centered vertical line to link estimators */\n",
       "  background-image: linear-gradient(var(--sklearn-color-text-on-default-background), var(--sklearn-color-text-on-default-background));\n",
       "  background-size: 2px 100%;\n",
       "  background-repeat: no-repeat;\n",
       "  background-position: center center;\n",
       "}\n",
       "\n",
       "/* Parallel-specific style estimator block */\n",
       "\n",
       "#sk-container-id-1 div.sk-parallel-item::after {\n",
       "  content: \"\";\n",
       "  width: 100%;\n",
       "  border-bottom: 2px solid var(--sklearn-color-text-on-default-background);\n",
       "  flex-grow: 1;\n",
       "}\n",
       "\n",
       "#sk-container-id-1 div.sk-parallel {\n",
       "  display: flex;\n",
       "  align-items: stretch;\n",
       "  justify-content: center;\n",
       "  background-color: var(--sklearn-color-background);\n",
       "  position: relative;\n",
       "}\n",
       "\n",
       "#sk-container-id-1 div.sk-parallel-item {\n",
       "  display: flex;\n",
       "  flex-direction: column;\n",
       "}\n",
       "\n",
       "#sk-container-id-1 div.sk-parallel-item:first-child::after {\n",
       "  align-self: flex-end;\n",
       "  width: 50%;\n",
       "}\n",
       "\n",
       "#sk-container-id-1 div.sk-parallel-item:last-child::after {\n",
       "  align-self: flex-start;\n",
       "  width: 50%;\n",
       "}\n",
       "\n",
       "#sk-container-id-1 div.sk-parallel-item:only-child::after {\n",
       "  width: 0;\n",
       "}\n",
       "\n",
       "/* Serial-specific style estimator block */\n",
       "\n",
       "#sk-container-id-1 div.sk-serial {\n",
       "  display: flex;\n",
       "  flex-direction: column;\n",
       "  align-items: center;\n",
       "  background-color: var(--sklearn-color-background);\n",
       "  padding-right: 1em;\n",
       "  padding-left: 1em;\n",
       "}\n",
       "\n",
       "\n",
       "/* Toggleable style: style used for estimator/Pipeline/ColumnTransformer box that is\n",
       "clickable and can be expanded/collapsed.\n",
       "- Pipeline and ColumnTransformer use this feature and define the default style\n",
       "- Estimators will overwrite some part of the style using the `sk-estimator` class\n",
       "*/\n",
       "\n",
       "/* Pipeline and ColumnTransformer style (default) */\n",
       "\n",
       "#sk-container-id-1 div.sk-toggleable {\n",
       "  /* Default theme specific background. It is overwritten whether we have a\n",
       "  specific estimator or a Pipeline/ColumnTransformer */\n",
       "  background-color: var(--sklearn-color-background);\n",
       "}\n",
       "\n",
       "/* Toggleable label */\n",
       "#sk-container-id-1 label.sk-toggleable__label {\n",
       "  cursor: pointer;\n",
       "  display: block;\n",
       "  width: 100%;\n",
       "  margin-bottom: 0;\n",
       "  padding: 0.5em;\n",
       "  box-sizing: border-box;\n",
       "  text-align: center;\n",
       "}\n",
       "\n",
       "#sk-container-id-1 label.sk-toggleable__label-arrow:before {\n",
       "  /* Arrow on the left of the label */\n",
       "  content: \"▸\";\n",
       "  float: left;\n",
       "  margin-right: 0.25em;\n",
       "  color: var(--sklearn-color-icon);\n",
       "}\n",
       "\n",
       "#sk-container-id-1 label.sk-toggleable__label-arrow:hover:before {\n",
       "  color: var(--sklearn-color-text);\n",
       "}\n",
       "\n",
       "/* Toggleable content - dropdown */\n",
       "\n",
       "#sk-container-id-1 div.sk-toggleable__content {\n",
       "  max-height: 0;\n",
       "  max-width: 0;\n",
       "  overflow: hidden;\n",
       "  text-align: left;\n",
       "  /* unfitted */\n",
       "  background-color: var(--sklearn-color-unfitted-level-0);\n",
       "}\n",
       "\n",
       "#sk-container-id-1 div.sk-toggleable__content.fitted {\n",
       "  /* fitted */\n",
       "  background-color: var(--sklearn-color-fitted-level-0);\n",
       "}\n",
       "\n",
       "#sk-container-id-1 div.sk-toggleable__content pre {\n",
       "  margin: 0.2em;\n",
       "  border-radius: 0.25em;\n",
       "  color: var(--sklearn-color-text);\n",
       "  /* unfitted */\n",
       "  background-color: var(--sklearn-color-unfitted-level-0);\n",
       "}\n",
       "\n",
       "#sk-container-id-1 div.sk-toggleable__content.fitted pre {\n",
       "  /* unfitted */\n",
       "  background-color: var(--sklearn-color-fitted-level-0);\n",
       "}\n",
       "\n",
       "#sk-container-id-1 input.sk-toggleable__control:checked~div.sk-toggleable__content {\n",
       "  /* Expand drop-down */\n",
       "  max-height: 200px;\n",
       "  max-width: 100%;\n",
       "  overflow: auto;\n",
       "}\n",
       "\n",
       "#sk-container-id-1 input.sk-toggleable__control:checked~label.sk-toggleable__label-arrow:before {\n",
       "  content: \"▾\";\n",
       "}\n",
       "\n",
       "/* Pipeline/ColumnTransformer-specific style */\n",
       "\n",
       "#sk-container-id-1 div.sk-label input.sk-toggleable__control:checked~label.sk-toggleable__label {\n",
       "  color: var(--sklearn-color-text);\n",
       "  background-color: var(--sklearn-color-unfitted-level-2);\n",
       "}\n",
       "\n",
       "#sk-container-id-1 div.sk-label.fitted input.sk-toggleable__control:checked~label.sk-toggleable__label {\n",
       "  background-color: var(--sklearn-color-fitted-level-2);\n",
       "}\n",
       "\n",
       "/* Estimator-specific style */\n",
       "\n",
       "/* Colorize estimator box */\n",
       "#sk-container-id-1 div.sk-estimator input.sk-toggleable__control:checked~label.sk-toggleable__label {\n",
       "  /* unfitted */\n",
       "  background-color: var(--sklearn-color-unfitted-level-2);\n",
       "}\n",
       "\n",
       "#sk-container-id-1 div.sk-estimator.fitted input.sk-toggleable__control:checked~label.sk-toggleable__label {\n",
       "  /* fitted */\n",
       "  background-color: var(--sklearn-color-fitted-level-2);\n",
       "}\n",
       "\n",
       "#sk-container-id-1 div.sk-label label.sk-toggleable__label,\n",
       "#sk-container-id-1 div.sk-label label {\n",
       "  /* The background is the default theme color */\n",
       "  color: var(--sklearn-color-text-on-default-background);\n",
       "}\n",
       "\n",
       "/* On hover, darken the color of the background */\n",
       "#sk-container-id-1 div.sk-label:hover label.sk-toggleable__label {\n",
       "  color: var(--sklearn-color-text);\n",
       "  background-color: var(--sklearn-color-unfitted-level-2);\n",
       "}\n",
       "\n",
       "/* Label box, darken color on hover, fitted */\n",
       "#sk-container-id-1 div.sk-label.fitted:hover label.sk-toggleable__label.fitted {\n",
       "  color: var(--sklearn-color-text);\n",
       "  background-color: var(--sklearn-color-fitted-level-2);\n",
       "}\n",
       "\n",
       "/* Estimator label */\n",
       "\n",
       "#sk-container-id-1 div.sk-label label {\n",
       "  font-family: monospace;\n",
       "  font-weight: bold;\n",
       "  display: inline-block;\n",
       "  line-height: 1.2em;\n",
       "}\n",
       "\n",
       "#sk-container-id-1 div.sk-label-container {\n",
       "  text-align: center;\n",
       "}\n",
       "\n",
       "/* Estimator-specific */\n",
       "#sk-container-id-1 div.sk-estimator {\n",
       "  font-family: monospace;\n",
       "  border: 1px dotted var(--sklearn-color-border-box);\n",
       "  border-radius: 0.25em;\n",
       "  box-sizing: border-box;\n",
       "  margin-bottom: 0.5em;\n",
       "  /* unfitted */\n",
       "  background-color: var(--sklearn-color-unfitted-level-0);\n",
       "}\n",
       "\n",
       "#sk-container-id-1 div.sk-estimator.fitted {\n",
       "  /* fitted */\n",
       "  background-color: var(--sklearn-color-fitted-level-0);\n",
       "}\n",
       "\n",
       "/* on hover */\n",
       "#sk-container-id-1 div.sk-estimator:hover {\n",
       "  /* unfitted */\n",
       "  background-color: var(--sklearn-color-unfitted-level-2);\n",
       "}\n",
       "\n",
       "#sk-container-id-1 div.sk-estimator.fitted:hover {\n",
       "  /* fitted */\n",
       "  background-color: var(--sklearn-color-fitted-level-2);\n",
       "}\n",
       "\n",
       "/* Specification for estimator info (e.g. \"i\" and \"?\") */\n",
       "\n",
       "/* Common style for \"i\" and \"?\" */\n",
       "\n",
       ".sk-estimator-doc-link,\n",
       "a:link.sk-estimator-doc-link,\n",
       "a:visited.sk-estimator-doc-link {\n",
       "  float: right;\n",
       "  font-size: smaller;\n",
       "  line-height: 1em;\n",
       "  font-family: monospace;\n",
       "  background-color: var(--sklearn-color-background);\n",
       "  border-radius: 1em;\n",
       "  height: 1em;\n",
       "  width: 1em;\n",
       "  text-decoration: none !important;\n",
       "  margin-left: 1ex;\n",
       "  /* unfitted */\n",
       "  border: var(--sklearn-color-unfitted-level-1) 1pt solid;\n",
       "  color: var(--sklearn-color-unfitted-level-1);\n",
       "}\n",
       "\n",
       ".sk-estimator-doc-link.fitted,\n",
       "a:link.sk-estimator-doc-link.fitted,\n",
       "a:visited.sk-estimator-doc-link.fitted {\n",
       "  /* fitted */\n",
       "  border: var(--sklearn-color-fitted-level-1) 1pt solid;\n",
       "  color: var(--sklearn-color-fitted-level-1);\n",
       "}\n",
       "\n",
       "/* On hover */\n",
       "div.sk-estimator:hover .sk-estimator-doc-link:hover,\n",
       ".sk-estimator-doc-link:hover,\n",
       "div.sk-label-container:hover .sk-estimator-doc-link:hover,\n",
       ".sk-estimator-doc-link:hover {\n",
       "  /* unfitted */\n",
       "  background-color: var(--sklearn-color-unfitted-level-3);\n",
       "  color: var(--sklearn-color-background);\n",
       "  text-decoration: none;\n",
       "}\n",
       "\n",
       "div.sk-estimator.fitted:hover .sk-estimator-doc-link.fitted:hover,\n",
       ".sk-estimator-doc-link.fitted:hover,\n",
       "div.sk-label-container:hover .sk-estimator-doc-link.fitted:hover,\n",
       ".sk-estimator-doc-link.fitted:hover {\n",
       "  /* fitted */\n",
       "  background-color: var(--sklearn-color-fitted-level-3);\n",
       "  color: var(--sklearn-color-background);\n",
       "  text-decoration: none;\n",
       "}\n",
       "\n",
       "/* Span, style for the box shown on hovering the info icon */\n",
       ".sk-estimator-doc-link span {\n",
       "  display: none;\n",
       "  z-index: 9999;\n",
       "  position: relative;\n",
       "  font-weight: normal;\n",
       "  right: .2ex;\n",
       "  padding: .5ex;\n",
       "  margin: .5ex;\n",
       "  width: min-content;\n",
       "  min-width: 20ex;\n",
       "  max-width: 50ex;\n",
       "  color: var(--sklearn-color-text);\n",
       "  box-shadow: 2pt 2pt 4pt #999;\n",
       "  /* unfitted */\n",
       "  background: var(--sklearn-color-unfitted-level-0);\n",
       "  border: .5pt solid var(--sklearn-color-unfitted-level-3);\n",
       "}\n",
       "\n",
       ".sk-estimator-doc-link.fitted span {\n",
       "  /* fitted */\n",
       "  background: var(--sklearn-color-fitted-level-0);\n",
       "  border: var(--sklearn-color-fitted-level-3);\n",
       "}\n",
       "\n",
       ".sk-estimator-doc-link:hover span {\n",
       "  display: block;\n",
       "}\n",
       "\n",
       "/* \"?\"-specific style due to the `<a>` HTML tag */\n",
       "\n",
       "#sk-container-id-1 a.estimator_doc_link {\n",
       "  float: right;\n",
       "  font-size: 1rem;\n",
       "  line-height: 1em;\n",
       "  font-family: monospace;\n",
       "  background-color: var(--sklearn-color-background);\n",
       "  border-radius: 1rem;\n",
       "  height: 1rem;\n",
       "  width: 1rem;\n",
       "  text-decoration: none;\n",
       "  /* unfitted */\n",
       "  color: var(--sklearn-color-unfitted-level-1);\n",
       "  border: var(--sklearn-color-unfitted-level-1) 1pt solid;\n",
       "}\n",
       "\n",
       "#sk-container-id-1 a.estimator_doc_link.fitted {\n",
       "  /* fitted */\n",
       "  border: var(--sklearn-color-fitted-level-1) 1pt solid;\n",
       "  color: var(--sklearn-color-fitted-level-1);\n",
       "}\n",
       "\n",
       "/* On hover */\n",
       "#sk-container-id-1 a.estimator_doc_link:hover {\n",
       "  /* unfitted */\n",
       "  background-color: var(--sklearn-color-unfitted-level-3);\n",
       "  color: var(--sklearn-color-background);\n",
       "  text-decoration: none;\n",
       "}\n",
       "\n",
       "#sk-container-id-1 a.estimator_doc_link.fitted:hover {\n",
       "  /* fitted */\n",
       "  background-color: var(--sklearn-color-fitted-level-3);\n",
       "}\n",
       "</style><div id=\"sk-container-id-1\" class=\"sk-top-container\"><div class=\"sk-text-repr-fallback\"><pre>RandomForestClassifier()</pre><b>In a Jupyter environment, please rerun this cell to show the HTML representation or trust the notebook. <br />On GitHub, the HTML representation is unable to render, please try loading this page with nbviewer.org.</b></div><div class=\"sk-container\" hidden><div class=\"sk-item\"><div class=\"sk-estimator fitted sk-toggleable\"><input class=\"sk-toggleable__control sk-hidden--visually\" id=\"sk-estimator-id-1\" type=\"checkbox\" checked><label for=\"sk-estimator-id-1\" class=\"sk-toggleable__label fitted sk-toggleable__label-arrow fitted\">&nbsp;&nbsp;RandomForestClassifier<a class=\"sk-estimator-doc-link fitted\" rel=\"noreferrer\" target=\"_blank\" href=\"https://scikit-learn.org/1.4/modules/generated/sklearn.ensemble.RandomForestClassifier.html\">?<span>Documentation for RandomForestClassifier</span></a><span class=\"sk-estimator-doc-link fitted\">i<span>Fitted</span></span></label><div class=\"sk-toggleable__content fitted\"><pre>RandomForestClassifier()</pre></div> </div></div></div></div>"
      ],
      "text/plain": [
       "RandomForestClassifier()"
      ]
     },
     "execution_count": 38,
     "metadata": {},
     "output_type": "execute_result"
    }
   ],
   "source": [
    "from sklearn.ensemble import RandomForestClassifier\n",
    "clf2=RandomForestClassifier()\n",
    "clf2.fit(x_train,y_train)"
   ]
  },
  {
   "cell_type": "code",
   "execution_count": 39,
   "id": "b196a8ec",
   "metadata": {},
   "outputs": [
    {
     "data": {
      "text/plain": [
       "array([17, 20,  5,  0, 23, 17, 15, 10, 20,  8, 22, 12, 17, 24, 13, 23,  3,\n",
       "       16, 23, 14,  1, 15, 12, 17, 23,  1,  3,  2, 22, 16, 15, 20, 21,  8,\n",
       "       13, 14,  3, 11, 11,  7, 16, 24,  0,  8, 22,  6, 15,  6, 13, 15, 15,\n",
       "        9,  8, 23,  2, 13, 11,  7, 17,  8, 12, 13, 12, 17, 10, 24, 12,  7,\n",
       "        2,  3, 12,  0, 16, 23,  2, 23,  8, 22, 23, 10,  8, 16,  8,  6, 20,\n",
       "       22,  8, 14, 12, 15, 15, 24,  0,  6, 12,  8, 18,  2, 20, 16,  9, 18,\n",
       "       18, 14,  5, 24, 23, 10, 18, 21, 17, 15,  0,  4, 10, 14, 10, 23, 20,\n",
       "        2,  2, 16, 15, 22, 22, 15,  8,  0,  7,  5,  0, 24, 22, 13, 22,  3,\n",
       "       12,  1,  1, 15,  4, 24, 20,  0, 23,  8, 20,  1,  9, 21,  9,  1, 18,\n",
       "       18, 12,  7,  6, 10, 15, 12, 16,  7,  6, 16, 14, 15, 10, 20,  9,  4,\n",
       "       14, 15,  7, 13,  3, 24, 11,  4, 21, 16, 12,  1,  3, 24, 18,  8, 16,\n",
       "        0, 12,  6, 15,  1,  4])"
      ]
     },
     "execution_count": 39,
     "metadata": {},
     "output_type": "execute_result"
    }
   ],
   "source": [
    "# Test data prediction\n",
    "t_pred=clf2.predict(x_test)\n",
    "t_pred"
   ]
  },
  {
   "cell_type": "code",
   "execution_count": 40,
   "id": "1852fcc2",
   "metadata": {},
   "outputs": [
    {
     "name": "stdout",
     "output_type": "stream",
     "text": [
      "Test accuracy score: 1.0\n"
     ]
    }
   ],
   "source": [
    "## Test accuracy using random forest\n",
    "t_accuracy=accuracy_score(y_test,t_pred)\n",
    "print(\"Test accuracy score:\",t_accuracy)"
   ]
  },
  {
   "cell_type": "code",
   "execution_count": 42,
   "id": "397f8804",
   "metadata": {
    "collapsed": true
   },
   "outputs": [
    {
     "data": {
      "text/plain": [
       "array([ 3, 13, 23, 10, 10, 10, 19,  9, 17,  1, 13, 20,  1, 20,  6, 22,  1,\n",
       "        7, 13, 18, 16,  8,  7, 24, 22, 23, 11, 15, 22, 14, 15, 18, 15, 15,\n",
       "       23, 23,  1, 24, 18,  4, 17,  1,  1, 16,  4,  8, 17, 20,  5, 10, 15,\n",
       "       10, 23,  6,  3, 15,  6, 14, 21, 12, 18, 20, 20,  1,  9,  1, 23, 11,\n",
       "       19,  7, 20, 15, 22, 16, 15, 10, 23, 24, 21, 23,  0, 21, 21, 15, 16,\n",
       "        3, 23, 16,  6, 24, 20, 15,  1, 20, 13,  6,  1, 10,  8, 22, 20, 13,\n",
       "       22, 22, 15, 23,  2,  3, 15,  9, 15,  8,  2,  3, 10,  1, 12, 23, 15,\n",
       "        8,  3,  7,  6, 23, 15,  1, 18, 22, 17, 21, 18, 16, 19, 12, 18, 20,\n",
       "       24, 14, 24, 12,  8,  9,  7, 24, 15, 22,  7, 18, 19,  3, 16,  3, 13,\n",
       "       16, 12, 15, 18, 20, 24,  8, 13, 15,  5, 15, 10, 21, 19, 20, 15, 23,\n",
       "       24, 20, 12, 19, 15,  8, 19,  3, 15,  2,  4, 13, 18,  8,  4, 20, 13,\n",
       "        1, 13,  5, 14, 10, 19,  1, 18, 10,  1,  2, 21, 18, 13, 14,  5, 15,\n",
       "        4, 14,  1, 15,  9, 15,  2, 19, 16, 13, 20, 13,  8, 12,  5,  8, 15,\n",
       "       16, 13, 14,  6, 15, 20, 13, 12, 15,  3,  1, 23,  6, 10,  8, 21,  0,\n",
       "        2,  2, 12, 20, 18, 15, 21, 12,  3, 22, 24, 15, 23, 23, 12, 23, 17,\n",
       "        1, 11, 19, 12,  8, 23, 18, 13,  9, 15, 18, 23, 15,  6, 12, 13, 24,\n",
       "        6, 12, 15, 24, 20, 18, 23, 24, 22, 19, 24,  7, 15, 23, 15,  4, 21,\n",
       "       10, 23, 23,  8, 24,  7, 15,  9, 12,  7, 11, 24, 19, 23, 20, 13,  6,\n",
       "        5, 10, 13,  6, 13,  5, 22, 22,  0, 18, 11,  4, 19, 19, 16,  8,  4,\n",
       "       16, 13, 18, 23, 21,  7, 14, 12, 21, 23, 12, 20,  4, 12,  3, 23,  6,\n",
       "       13, 18, 21, 23,  4, 11, 13, 15,  2,  1, 14, 10,  8, 22,  4, 23, 16,\n",
       "       23,  0,  2,  8, 11, 24,  8, 10,  5, 15,  1, 14, 15, 13,  0, 13, 14,\n",
       "        2,  8,  9, 17, 16, 15, 15, 15,  6, 15, 23, 15,  5,  3, 15, 23, 22,\n",
       "        5, 19, 22,  0,  7,  3,  9,  0, 18, 15,  8, 21,  3, 19, 11,  8, 10,\n",
       "        7, 22,  5, 16, 24, 20,  1, 11,  1,  0,  8, 18, 11, 17,  3, 12, 23,\n",
       "       19, 14, 15, 24, 16,  3, 16, 12,  6,  4,  9, 16, 15,  2,  2, 18, 12,\n",
       "       22, 20,  5, 20,  7, 23,  6, 11,  2, 23,  8, 14, 22, 23,  9,  3, 20,\n",
       "       16,  4, 15, 10, 12, 23, 20,  6, 12, 18, 23, 23,  1, 22, 12, 18, 20,\n",
       "       20, 13,  8, 15, 16, 23, 23,  6, 11,  7, 23,  7, 19, 22, 14,  8, 20,\n",
       "        9, 23,  2, 15, 21, 17,  5, 21, 17, 13, 21, 15,  4, 14, 20,  8, 10,\n",
       "       14, 17,  7, 20,  7,  3,  3, 22, 22, 24, 11, 15, 10,  4, 18, 24, 24,\n",
       "       22, 19,  0, 16, 20, 19,  2, 23,  8,  9,  6, 16, 12, 16, 16,  9, 15,\n",
       "       23, 15,  6, 10, 15, 16,  7, 19, 22, 19,  4, 10,  3,  8, 13,  5, 12,\n",
       "        7,  8,  6, 21,  6, 10, 13, 15, 16,  0,  5, 15, 15, 15,  2, 13, 20,\n",
       "       20, 19,  6, 23, 17, 17, 24, 10, 10,  4, 10,  3, 16, 14, 20, 23, 11,\n",
       "        3, 10,  3, 23, 23, 11,  9,  9,  1, 12, 19,  6,  0, 18, 20, 23, 13,\n",
       "       10, 18, 15,  5, 10,  8, 22, 18, 11, 21,  8,  2,  6, 12, 24, 11,  7,\n",
       "        3, 10, 22, 12, 22, 24,  6, 24, 19,  7,  1, 14, 12,  5,  9, 12,  7,\n",
       "       15, 16, 14,  5,  7, 21, 11, 11,  6,  6, 19, 24, 14,  5,  8,  9,  8,\n",
       "       14, 23,  8, 11, 11, 24,  9, 23, 19, 13, 23,  6, 24,  6, 13, 11, 11,\n",
       "        5, 14, 20,  4,  4, 24, 16,  3, 24,  9, 23, 17,  9, 18,  7,  8, 13,\n",
       "       23,  1,  3,  6,  1, 23, 19, 13, 24, 24, 17, 15, 14, 19,  6, 20,  3,\n",
       "       18, 11,  7, 15,  4, 20,  3,  6, 10, 24, 15, 15, 18, 24, 18,  9, 11,\n",
       "       24,  8,  4,  8,  8,  3, 20,  3,  8,  5, 22,  9, 17,  2, 15, 18, 11,\n",
       "       15,  4,  8, 23, 17,  2,  4,  1, 23,  8, 19,  3,  7, 17, 10, 22, 23,\n",
       "        8, 22, 17,  3])"
      ]
     },
     "execution_count": 42,
     "metadata": {},
     "output_type": "execute_result"
    }
   ],
   "source": [
    "# training data prediction\n",
    "train_pred1=clf2.predict(x_train)\n",
    "train_pred1"
   ]
  },
  {
   "cell_type": "code",
   "execution_count": 43,
   "id": "fb68e3f2",
   "metadata": {},
   "outputs": [
    {
     "name": "stdout",
     "output_type": "stream",
     "text": [
      "Test accuracy score: 1.0\n"
     ]
    }
   ],
   "source": [
    "## Training data accuracy using random forest\n",
    "train_accuracy=accuracy_score(y_train,train_pred1)\n",
    "print(\"Test accuracy score:\",train_accuracy)"
   ]
  },
  {
   "cell_type": "markdown",
   "id": "3a46b37b",
   "metadata": {},
   "source": [
    "# Prediction System"
   ]
  },
  {
   "cell_type": "code",
   "execution_count": 44,
   "id": "f0a2bdd0",
   "metadata": {},
   "outputs": [],
   "source": [
    "import pickle\n",
    "pickle.dump(tfidf,open('tfidf.pkl','wb'))\n",
    "pickle.dump(clf,open('clf.pkl','wb'))"
   ]
  },
  {
   "cell_type": "code",
   "execution_count": 45,
   "id": "8cede518",
   "metadata": {},
   "outputs": [],
   "source": [
    "myresume = \"\"\"Gunjan R  Pandey\n",
    "\n",
    "Details\n",
    "Bangalore, India\n",
    "gunjanpandey.official@gmail.com\n",
    "\n",
    "Links\n",
    "LinkedIn\n",
    "GitHub\n",
    "\n",
    "Skills\n",
    "Programming Languages: Python (NumPy, Pandas, Scikit-learn)\n",
    "\n",
    "Machine Learning\n",
    "\n",
    "Deep Learning\n",
    "\n",
    "Excel\n",
    "\n",
    "Customer Relationship\n",
    "\n",
    "\n",
    "Hobbies\n",
    "Swimming, Badminton\n",
    "\n",
    "Languages\n",
    "English\n",
    "Hindi\n",
    "Marathi\n",
    " \t \n",
    "\n",
    "\tProfile\n",
    "Enthusiastic and detail-oriented professional seeking an entry-level Data Scientist position to leverage strong analytical, statistical, and programming skills in a dynamic and data-driven organization.\n",
    "\n",
    "Education\n",
    "Certified Data Scientist, DataMites, Bengaluru\n",
    "FEBRUARY 2023 — MAY 2023\n",
    "\n",
    "MCA, Swami Vivekanand Subharti University, Distance Learning\n",
    "JULY 2020 — SEPTEMBER 2023\n",
    "\n",
    "B.Com, Ramniranjan Jhunjhunwala College(Mumbai University), Mumbai\n",
    "JULY 2010 — MAY 2013\n",
    "\n",
    "Certifications\n",
    "Certified Data Scientist, IABAC\n",
    "\n",
    "Data Science Foundation , IABAC\n",
    "\n",
    "Internships\n",
    "Data Science Intern at Rubixe, Bangalore\n",
    "MAY 2023 — OCTOBER 2023\n",
    "●\tCollaborated on diverse projects, both independently and as part of teams, to meticulously preprocess and analyze multifaceted datasets spanning sectors such as healthcare, finance, and human resources, unearthing invaluable insights.\n",
    "●\tEngineered data models of great accuracy, capable of generating actionable outputs derived from meticulously trained data parameters, thus facilitating data-driven decision-making processes.\n",
    "\n",
    "Projects\n",
    "Employee Performance Analysis\n",
    "Developed an XGB classifier model predicting employee performance with 93.33% accuracy.\n",
    "●\tAnalyzed factors like department, job role, years of experience and salary hike impacting ratings.\n",
    "●\tDetected performance dips in Sales and R&D departments through comprehensive EDA.\n",
    "●\tHighlighted pivotal performance determinants: salary hike, role experience, and environment satisfaction.\n",
    "●\tProposed strategies to improve engagement and address areas of employee concern.\n",
    "●\tSuggested key measures to increase employee retention\n",
    "\n",
    "Flight Price Prediction\n",
    "●\tAnalyzed a comprehensive dataset comprising flight data attributes such as airlines, journey date, route, duration, stops, and pricing.\n",
    "●\tIdentified key insights including the highest-used airline (Jet Airways), most frequent travel date (8/05/2019), the predominant source of the journey (Delhi), and most opted route (Del-Bom-Cok).\n",
    "●\tConducted exploratory data analysis to understand travel behavior patterns and trends.\n",
    "●\tDeveloped various predictive models to forecast flight prices; the Random Forest Regression model outperformed others with an accuracy score of 86.86%, establishing it as the optimal choice for future flight price predictions.\n",
    "\n",
    "Good Bank  Credit, \n",
    "The project assists the bank in efficiently determining creditworthiness and managing default risks.\n",
    "●\tDeveloped models to predict customer credit card scores, aiding in credit risk mitigation.\n",
    "●\tMerged and processed data from three tables: Customer Account, Demographics, and Inquiry, and Analyzed a vast dataset of 108 columns and ~4.9 million rows, highlighting significant features.\n",
    "●\tAddressed challenges like high null values, data imbalance, and feature anonymization.\n",
    "●\tEmployed several algorithms including logistic regression, decision tree, XGBoost, and random forest classifiers.\n",
    "●\tAchieved standout performance with random forest classification, boasting a 99.99% accuracy rate.\n",
    "\n",
    "Employment History\n",
    "Field Support Executive at Vision Marketing (BARC India), Mumbai\n",
    "DECEMBER 2015 — APRIL 2017\n",
    "●\tManaged the inbound process, and addressed customer inquiries concerning maintenance, troubleshooting, installation, and validation of the 'BAR-O-meter' device, a crucial component driving BARC's core business.\n",
    "●\tProvided training to new team members, enabling them to quickly grasp the role and enhancing their efficiency and productivity.\n",
    "\n",
    "Office Admin at Nilesh Parab Fitness Centre, Mumbai\n",
    "SEPTEMBER 2013 — NOVEMBER 2015\n",
    "●\tOversaw inventory management, handled customer relationships, and implemented an enhanced feedback process helping in retaining existing and building new customers.\n",
    "●\tCreated tailored workout plans to guide gym trainers in delivering effective fitness programs.\n",
    "\n",
    "\n",
    "\"\"\""
   ]
  },
  {
   "cell_type": "code",
   "execution_count": 46,
   "id": "759c4a02",
   "metadata": {},
   "outputs": [],
   "source": [
    "import pickle\n",
    "# load the trained classifier\n",
    "clf=pickle.load(open('clf.pkl','rb'))\n",
    "\n",
    "# clean the input resume\n",
    "cleaned_resume=cleanResume(myresume)\n",
    "\n",
    "# Transform the cleaned resume using the trained TfidfVectorizer\n",
    "input_features = tfidf.transform([cleaned_resume])\n",
    "\n",
    "# Make the prediction using the loaded classifier\n",
    "prediction_id = clf.predict(input_features)[0]"
   ]
  },
  {
   "cell_type": "code",
   "execution_count": 47,
   "id": "51a4afd8",
   "metadata": {},
   "outputs": [
    {
     "name": "stdout",
     "output_type": "stream",
     "text": [
      "Predicted Category: Data Science\n",
      "6\n"
     ]
    }
   ],
   "source": [
    "# Map category ID to category name\n",
    "category_mapping = {\n",
    "    15: \"Java Developer\",\n",
    "    23: \"Testing\",\n",
    "    8: \"DevOps Engineer\",\n",
    "    20: \"Python Developer\",\n",
    "    24: \"Web Designing\",\n",
    "    12: \"HR\",\n",
    "    13: \"Hadoop\",\n",
    "    3: \"Blockchain\",\n",
    "    10: \"ETL Developer\",\n",
    "    18: \"Operations Manager\",\n",
    "    6: \"Data Science\",\n",
    "    22: \"Sales\",\n",
    "    16: \"Mechanical Engineer\",\n",
    "    1: \"Arts\",\n",
    "    7: \"Database\",\n",
    "    11: \"Electrical Engineering\",\n",
    "    14: \"Health and fitness\",\n",
    "    19: \"PMO\",\n",
    "    4: \"Business Analyst\",\n",
    "    9: \"DotNet Developer\",\n",
    "    2: \"Automation Testing\",\n",
    "    17: \"Network Security Engineer\",\n",
    "    21: \"SAP Developer\",\n",
    "    5: \"Civil Engineer\",\n",
    "    0: \"Advocate\",\n",
    "}\n",
    "\n",
    "category_name = category_mapping.get(prediction_id, \"Unknown\")\n",
    "\n",
    "print(\"Predicted Category:\", category_name)\n",
    "print(prediction_id)"
   ]
  },
  {
   "cell_type": "code",
   "execution_count": null,
   "id": "550e8b07",
   "metadata": {},
   "outputs": [],
   "source": []
  }
 ],
 "metadata": {
  "kernelspec": {
   "display_name": "Python 3 (ipykernel)",
   "language": "python",
   "name": "python3"
  },
  "language_info": {
   "codemirror_mode": {
    "name": "ipython",
    "version": 3
   },
   "file_extension": ".py",
   "mimetype": "text/x-python",
   "name": "python",
   "nbconvert_exporter": "python",
   "pygments_lexer": "ipython3",
   "version": "3.11.5"
  }
 },
 "nbformat": 4,
 "nbformat_minor": 5
}
